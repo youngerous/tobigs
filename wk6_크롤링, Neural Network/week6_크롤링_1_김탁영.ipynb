{
 "cells": [
  {
   "cell_type": "markdown",
   "metadata": {},
   "source": [
    "# 인스타그램 검색결과 크롤링 pseudo code"
   ]
  },
  {
   "cell_type": "markdown",
   "metadata": {},
   "source": [
    "- 특정 해시태그를 검색한다고 가정\n"
   ]
  },
  {
   "cell_type": "code",
   "execution_count": null,
   "metadata": {},
   "outputs": [],
   "source": [
    "browser.get('https://www.instagram.com/explore/tags/'+ 검색할 태그 +'/')\n",
    "\n",
    "# 격자 무늬의 게시물 테이블에서 가장 첫 번째 게시물을 클릭하면 팝업 형태로 나타난다.\n",
    "first_post = browser.find_element_by_class_name('_9AhH0') # 격자무늬의 게시물들이 공통적으로 갖고 있는 class\n",
    "first_post.click()            \n",
    "\n",
    "result = []\n",
    "total = 0\n",
    "while total < 5000:\n",
    "    # 변수 설정 (게시글 내용, 게시자 계정, 게시 날짜, 댓글 단 계정, 댓글 내용)\n",
    "    upload_content = ''\n",
    "    upload_account = ''\n",
    "    upload_date = ''\n",
    "    comment_account = []\n",
    "    comment_content = []\n",
    "\n",
    "    # '댓글 더보기' 버튼이 있는 경우 모든 댓글이 보이도록 클릭해 준다.\n",
    "    load_comment_btn = browser.find_element_by_class_name('glyphsSpriteCircle_add__outline__24__grey_9 u-__7')\n",
    "    while load_comment_btn:\n",
    "        load_comment_btn.click()\n",
    "\n",
    "    # 게시자 계정 입력\n",
    "    upload_account = browser.find_element_by_class_name('FPmhX').get_attribute('title')\n",
    "    \n",
    "    # 게시글 내용 입력\n",
    "    upload_content = browser.find_element_by_xpath('/html/body/div[4]/div[2]/div/article/div[2]/div[1]/ul/div/li/div/div/div[2]/span')\n",
    "\n",
    "    # 게시 날짜 입력 (xxxx년 x월 x일)\n",
    "    upload_date = browser.find_element_by_xpath('/html/body/div[4]/div[2]/div/article/div[2]/div[1]/ul/div/li/div/div/div[2]/div/div/time')\n",
    "                    .get_attribute('title') \n",
    "            \n",
    "    # 댓글 계정과 내용 입력\n",
    "    for comment in comments:\n",
    "        comment_account.append('댓글 계정 경로')\n",
    "        comment_content.append('댓글 내용 경로')\n",
    "            \n",
    "    # 결과를 result에 추가한다.\n",
    "    result.append({\n",
    "        'upload_content':upload_content,\n",
    "        'upload_account':upload_account,\n",
    "        'upload_date':upload_date,\n",
    "        'comment_account':comment_account,\n",
    "        'comment_content':comment_content\n",
    "    }) \n",
    "    \n",
    "    # 다음 게시물로 넘어간다.\n",
    "    next_btn = browser.find_element_by_class_name('다음 버튼 경로')\n",
    "    next_btn.click()\n",
    "    total += 1\n",
    "    "
   ]
  }
 ],
 "metadata": {
  "kernelspec": {
   "display_name": "Python 3",
   "language": "python",
   "name": "python3"
  },
  "language_info": {
   "codemirror_mode": {
    "name": "ipython",
    "version": 3
   },
   "file_extension": ".py",
   "mimetype": "text/x-python",
   "name": "python",
   "nbconvert_exporter": "python",
   "pygments_lexer": "ipython3",
   "version": "3.7.3"
  }
 },
 "nbformat": 4,
 "nbformat_minor": 4
}
