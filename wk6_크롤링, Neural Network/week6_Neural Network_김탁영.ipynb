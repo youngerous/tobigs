{
 "cells": [
  {
   "cell_type": "markdown",
   "metadata": {},
   "source": [
    "### Matrix Shape 정리\n",
    "$ X == (N,D) $  \n",
    "$ W_1 == (D,H) $  \n",
    "$ b_1 == (H,) $  \n",
    "$ H == (N,H) $  \n",
    "$ A == (N,H) $  \n",
    "$ W_2 == (H,C) $  \n",
    "$ b_2 == (C,) $  \n",
    "$ S == (N,C) $  \n",
    "$ P == (N,C) $  "
   ]
  },
  {
   "cell_type": "markdown",
   "metadata": {},
   "source": [
    "### Matrix 미분 정리  \n",
    "$ H = XW + b\\qquad  (N, H) = (N, D) \\times (D, H) + (H,) $  \n",
    "$ L = f(H) $  \n",
    "$ {\\partial L \\over \\partial W} = X^T {\\partial L \\over \\partial H} = {\\partial H \\over \\partial W} \\times {\\partial L \\over \\partial H}$  \n",
    "\n",
    "\n",
    "\n",
    "$ {\\partial L \\over \\partial X} = {\\partial L \\over \\partial H} W^T = {\\partial L \\over \\partial H} \\times {\\partial H \\over \\partial X}$  \n",
    "\n",
    "\n",
    "$ {\\partial L \\over \\partial b} = 1*{\\partial L \\over \\partial H}  $  "
   ]
  },
  {
   "cell_type": "markdown",
   "metadata": {},
   "source": [
    "### 2 Layers Chain Rule 정리  \n",
    "##### Forward\n",
    "$ H = XW_1 + b_1$  \n",
    "$ A = ReLU(H) $  \n",
    "$ S = AW_2 + b_2 $  \n",
    "$ P = Softmax(S) $    \n",
    "$ L = -LogLikelihood(P) $  \n",
    "##### Backward  \n",
    "$ {\\partial L \\over \\partial S} = P-T $ : T는 Label  \n",
    "\n",
    "\n",
    "\n",
    "$ {\\partial L \\over \\partial W_2} = {\\partial S \\over \\partial W_2}{\\partial L \\over \\partial S} = A^T(P-T) $  \n",
    "\n",
    "\n",
    "\n",
    "$ {\\partial L \\over \\partial b_2} = 1 * {\\partial L \\over \\partial S} = (P-T) $  \n",
    "\n",
    "\n",
    "\n",
    "$ {\\partial L \\over \\partial A} = {\\partial L \\over \\partial S}{\\partial S \\over \\partial A} = (P-T)*W_2^T $ (if A != 0)  \n",
    "\n",
    "\n",
    "\n",
    "$ {\\partial L \\over \\partial H} = {\\partial A \\over \\partial H} * {\\partial L \\over \\partial A} $  \n",
    "\n",
    "\n",
    "\n",
    "$ {\\partial L \\over \\partial W_1} = {\\partial H \\over \\partial W_1}{\\partial L \\over \\partial H} = X^T {\\partial L \\over \\partial H}  $  \n",
    "\n",
    "\n",
    "$ {\\partial L \\over \\partial b_1} = {\\partial L \\over \\partial H} $  "
   ]
  },
  {
   "cell_type": "markdown",
   "metadata": {},
   "source": [
    "### Softmax - Cross Entropy Error미분  \n",
    "<img src=\"./img/fig a-5.png\">"
   ]
  },
  {
   "cell_type": "markdown",
   "metadata": {},
   "source": [
    "### 데이터 Load  \n",
    "cifar-10 데이터를 불러옵니다.  \n",
    "프레임워크 내 자체적으로 데이터를 로드할 수 있지만, \n",
    "이렇게도 데이터 로드가 가능합니다!  \n",
    "32  32  3 차원의 데이터를 3072 차원으로 바뀌는 것 까지 드릴게요."
   ]
  },
  {
   "cell_type": "code",
   "execution_count": 1,
   "metadata": {},
   "outputs": [],
   "source": [
    "from load_cifar_10 import *\n",
    "import numpy as np\n",
    "from Model import TwoLayerNet"
   ]
  },
  {
   "cell_type": "code",
   "execution_count": 2,
   "metadata": {},
   "outputs": [],
   "source": [
    "cifar_10_dir = './cifar-10-batches-py'\n",
    "\n",
    "train_data, train_filenames, train_labels, test_data, test_filenames, test_labels, label_names = \\\n",
    "load_cifar_10_data(cifar_10_dir)\n",
    "\n",
    "def Processing_data(train, test):\n",
    "    #change dtype\n",
    "    train = np.array(train, dtype=np.float64)\n",
    "    test = np.array(test, dtype=np.float64)\n",
    "    \n",
    "    #Reshaping\n",
    "    train = np.reshape(train, (train.shape[0], -1))\n",
    "    test = np.reshape(test, (test.shape[0], -1))\n",
    "    \n",
    "    #Normalizing\n",
    "    mean_image = np.mean(train, axis = 0)\n",
    "    #print(train.dtype)\n",
    "    train -= mean_image\n",
    "    test -= mean_image\n",
    "    \n",
    "    return train, test"
   ]
  },
  {
   "cell_type": "code",
   "execution_count": 3,
   "metadata": {},
   "outputs": [],
   "source": [
    "train_data, test_data = Processing_data(train_data, test_data)"
   ]
  },
  {
   "cell_type": "code",
   "execution_count": 4,
   "metadata": {},
   "outputs": [
    {
     "name": "stdout",
     "output_type": "stream",
     "text": [
      "(50000, 3072)\n",
      "(50000,)\n",
      "(10000, 3072)\n",
      "(10000,)\n"
     ]
    }
   ],
   "source": [
    "print(train_data.shape)\n",
    "print(train_labels.shape)\n",
    "print(test_data.shape)\n",
    "print(test_labels.shape)"
   ]
  },
  {
   "cell_type": "code",
   "execution_count": null,
   "metadata": {},
   "outputs": [],
   "source": []
  },
  {
   "cell_type": "markdown",
   "metadata": {},
   "source": [
    "너무 많으니까 5000개, 1000개만 사용합시다!"
   ]
  },
  {
   "cell_type": "code",
   "execution_count": 5,
   "metadata": {},
   "outputs": [],
   "source": [
    "train_data = train_data[:5000]\n",
    "train_labels = train_labels[:5000]\n",
    "test_data = test_data[:1000]\n",
    "test_labels = test_labels[:1000]"
   ]
  },
  {
   "cell_type": "markdown",
   "metadata": {},
   "source": [
    "### 데이터 확인  \n",
    "실제 데이터가 어떻게 생겼는지는 한번 확인해보세요!"
   ]
  },
  {
   "cell_type": "code",
   "execution_count": 6,
   "metadata": {},
   "outputs": [
    {
     "data": {
      "text/plain": [
       "array([[ -71.71074,  -74.05614,  -69.5538 , ...,   -3.63908,  -33.8503 ,\n",
       "         -42.38186],\n",
       "       [  23.28926,   40.94386,   54.4462 , ...,   16.36092,    7.1497 ,\n",
       "          29.61814],\n",
       "       [ 124.28926,  118.94386,  122.4462 , ...,  -46.63908,  -39.8503 ,\n",
       "         -30.38186],\n",
       "       ...,\n",
       "       [  36.28926,   26.94386,   12.4462 , ...,  -84.63908,  -47.8503 ,\n",
       "         -30.38186],\n",
       "       [  23.28926,   15.94386,   -7.5538 , ...,   67.36092,  121.1497 ,\n",
       "          -0.38186],\n",
       "       [ -85.71074, -104.05614, -111.5538 , ...,   29.36092,   16.1497 ,\n",
       "         -14.38186]])"
      ]
     },
     "execution_count": 6,
     "metadata": {},
     "output_type": "execute_result"
    }
   ],
   "source": [
    "train_data"
   ]
  },
  {
   "cell_type": "markdown",
   "metadata": {},
   "source": [
    "### 하이퍼파라미터 설정  \n",
    "하이퍼파라미터를 설정하겠습니다.  \n",
    "hidden_size, epoch_size, batch_size, learning_rate 등은 전부 하이퍼 파라미터이니 바꿔서 해보세요."
   ]
  },
  {
   "cell_type": "code",
   "execution_count": 7,
   "metadata": {},
   "outputs": [],
   "source": [
    "input_size = 32 * 32 * 3\n",
    "hidden_size = 50\n",
    "output_size = 10\n",
    "epoch_size = 1000 \n",
    "batch_size = 32 * 32\n",
    "learning_rate = 0.0001\n",
    "N = train_data.shape[0]"
   ]
  },
  {
   "cell_type": "markdown",
   "metadata": {},
   "source": [
    "### 모델 만들기  \n",
    "input_size, hidden_size, output_size는 데이터에 맞게 잘 설정해주세요.  \n",
    "Model.py를 완성시켜주세요."
   ]
  },
  {
   "cell_type": "code",
   "execution_count": 8,
   "metadata": {},
   "outputs": [],
   "source": [
    "nn = TwoLayerNet(input_size=input_size, hidden_size=hidden_size, output_size=output_size)"
   ]
  },
  {
   "cell_type": "code",
   "execution_count": 9,
   "metadata": {},
   "outputs": [
    {
     "name": "stdout",
     "output_type": "stream",
     "text": [
      "0 test accuracy : 0.125\n",
      "0 test loss     : 2.3025683870055573\n",
      "10 test accuracy : 0.226\n",
      "10 test loss     : 2.302423992696049\n",
      "20 test accuracy : 0.229\n",
      "20 test loss     : 2.3020852261856133\n",
      "30 test accuracy : 0.225\n",
      "30 test loss     : 2.3011348266217184\n",
      "40 test accuracy : 0.195\n",
      "40 test loss     : 2.298252540621229\n",
      "50 test accuracy : 0.19\n",
      "50 test loss     : 2.2900001081714243\n",
      "60 test accuracy : 0.189\n",
      "60 test loss     : 2.2690418781128927\n",
      "70 test accuracy : 0.197\n",
      "70 test loss     : 2.231205576227108\n",
      "80 test accuracy : 0.215\n",
      "80 test loss     : 2.191218374507086\n",
      "90 test accuracy : 0.224\n",
      "90 test loss     : 2.1541743642058826\n",
      "100 test accuracy : 0.232\n",
      "100 test loss     : 2.120980238926724\n",
      "110 test accuracy : 0.254\n",
      "110 test loss     : 2.093966214268168\n",
      "120 test accuracy : 0.252\n",
      "120 test loss     : 2.0714198145546936\n",
      "130 test accuracy : 0.256\n",
      "130 test loss     : 2.0537627354434447\n",
      "140 test accuracy : 0.254\n",
      "140 test loss     : 2.03859143299349\n",
      "150 test accuracy : 0.256\n",
      "150 test loss     : 2.024960736269171\n",
      "160 test accuracy : 0.261\n",
      "160 test loss     : 2.012224330959951\n",
      "170 test accuracy : 0.271\n",
      "170 test loss     : 2.0002778444708107\n",
      "180 test accuracy : 0.278\n",
      "180 test loss     : 1.9883803842737158\n",
      "190 test accuracy : 0.275\n",
      "190 test loss     : 1.9766180382874101\n",
      "200 test accuracy : 0.281\n",
      "200 test loss     : 1.9652384520899966\n",
      "210 test accuracy : 0.283\n",
      "210 test loss     : 1.9530826482574404\n",
      "220 test accuracy : 0.276\n",
      "220 test loss     : 1.9423265060689328\n",
      "230 test accuracy : 0.287\n",
      "230 test loss     : 1.9313688987856477\n",
      "240 test accuracy : 0.295\n",
      "240 test loss     : 1.9204351842370166\n",
      "250 test accuracy : 0.301\n",
      "250 test loss     : 1.909631062495982\n",
      "260 test accuracy : 0.311\n",
      "260 test loss     : 1.8974560556472126\n",
      "270 test accuracy : 0.316\n",
      "270 test loss     : 1.8861820824600732\n",
      "280 test accuracy : 0.319\n",
      "280 test loss     : 1.8756348481035856\n",
      "290 test accuracy : 0.322\n",
      "290 test loss     : 1.8652139289026959\n",
      "300 test accuracy : 0.325\n",
      "300 test loss     : 1.856484262209245\n",
      "310 test accuracy : 0.332\n",
      "310 test loss     : 1.8487140946883165\n",
      "320 test accuracy : 0.336\n",
      "320 test loss     : 1.8407679654263203\n",
      "330 test accuracy : 0.34\n",
      "330 test loss     : 1.8326075305898128\n",
      "340 test accuracy : 0.346\n",
      "340 test loss     : 1.8261272810641413\n",
      "350 test accuracy : 0.349\n",
      "350 test loss     : 1.8190249098598015\n",
      "360 test accuracy : 0.347\n",
      "360 test loss     : 1.813027241380531\n",
      "370 test accuracy : 0.345\n",
      "370 test loss     : 1.8074236831229895\n",
      "380 test accuracy : 0.35\n",
      "380 test loss     : 1.8010745692233179\n",
      "390 test accuracy : 0.351\n",
      "390 test loss     : 1.7946591004399879\n",
      "400 test accuracy : 0.35\n",
      "400 test loss     : 1.7886728953860946\n",
      "410 test accuracy : 0.348\n",
      "410 test loss     : 1.7833924331940558\n",
      "420 test accuracy : 0.351\n",
      "420 test loss     : 1.777673705102721\n",
      "430 test accuracy : 0.353\n",
      "430 test loss     : 1.7723391563248996\n",
      "440 test accuracy : 0.357\n",
      "440 test loss     : 1.7672625775746613\n",
      "450 test accuracy : 0.362\n",
      "450 test loss     : 1.7621446902418407\n",
      "460 test accuracy : 0.362\n",
      "460 test loss     : 1.7568967033134417\n",
      "470 test accuracy : 0.365\n",
      "470 test loss     : 1.7508690329992294\n",
      "480 test accuracy : 0.366\n",
      "480 test loss     : 1.7465644266897924\n",
      "490 test accuracy : 0.372\n",
      "490 test loss     : 1.7421330411018363\n",
      "500 test accuracy : 0.371\n",
      "500 test loss     : 1.7379932511769052\n",
      "510 test accuracy : 0.37\n",
      "510 test loss     : 1.7339804053001482\n",
      "520 test accuracy : 0.376\n",
      "520 test loss     : 1.7296212881240465\n",
      "530 test accuracy : 0.381\n",
      "530 test loss     : 1.7255755017371088\n",
      "540 test accuracy : 0.383\n",
      "540 test loss     : 1.7205776817981482\n",
      "550 test accuracy : 0.379\n",
      "550 test loss     : 1.7175652793519152\n",
      "560 test accuracy : 0.386\n",
      "560 test loss     : 1.7141986693587508\n",
      "570 test accuracy : 0.385\n",
      "570 test loss     : 1.710732479765219\n",
      "580 test accuracy : 0.386\n",
      "580 test loss     : 1.7081474329592095\n",
      "590 test accuracy : 0.387\n",
      "590 test loss     : 1.7041491387996575\n",
      "600 test accuracy : 0.389\n",
      "600 test loss     : 1.7003173717389095\n",
      "610 test accuracy : 0.387\n",
      "610 test loss     : 1.6981155655646505\n",
      "620 test accuracy : 0.39\n",
      "620 test loss     : 1.6953481609645473\n",
      "630 test accuracy : 0.385\n",
      "630 test loss     : 1.6931697962743637\n",
      "640 test accuracy : 0.386\n",
      "640 test loss     : 1.69044075989535\n",
      "650 test accuracy : 0.39\n",
      "650 test loss     : 1.6888300315588223\n",
      "660 test accuracy : 0.394\n",
      "660 test loss     : 1.6843247425007013\n",
      "670 test accuracy : 0.394\n",
      "670 test loss     : 1.6819958485345317\n",
      "680 test accuracy : 0.398\n",
      "680 test loss     : 1.6794645293952881\n",
      "690 test accuracy : 0.391\n",
      "690 test loss     : 1.6771672450662847\n",
      "700 test accuracy : 0.401\n",
      "700 test loss     : 1.6750681130696647\n",
      "710 test accuracy : 0.396\n",
      "710 test loss     : 1.673065299512385\n",
      "720 test accuracy : 0.401\n",
      "720 test loss     : 1.6699026235074943\n",
      "730 test accuracy : 0.398\n",
      "730 test loss     : 1.6694856686971855\n",
      "740 test accuracy : 0.401\n",
      "740 test loss     : 1.66847340371476\n",
      "750 test accuracy : 0.399\n",
      "750 test loss     : 1.6664032268861064\n",
      "760 test accuracy : 0.398\n",
      "760 test loss     : 1.6631248136685177\n",
      "770 test accuracy : 0.4\n",
      "770 test loss     : 1.6610380235806013\n",
      "780 test accuracy : 0.403\n",
      "780 test loss     : 1.6609487704020913\n",
      "790 test accuracy : 0.401\n",
      "790 test loss     : 1.6581551894940858\n",
      "800 test accuracy : 0.398\n",
      "800 test loss     : 1.6584195509450137\n",
      "810 test accuracy : 0.402\n",
      "810 test loss     : 1.654945168785644\n",
      "820 test accuracy : 0.401\n",
      "820 test loss     : 1.6536580319595482\n",
      "830 test accuracy : 0.402\n",
      "830 test loss     : 1.6522770753733504\n",
      "840 test accuracy : 0.396\n",
      "840 test loss     : 1.6510087098382873\n",
      "850 test accuracy : 0.403\n",
      "850 test loss     : 1.6476937668536094\n",
      "860 test accuracy : 0.401\n",
      "860 test loss     : 1.6478297163141156\n",
      "870 test accuracy : 0.395\n",
      "870 test loss     : 1.6453757692581834\n",
      "880 test accuracy : 0.392\n",
      "880 test loss     : 1.6448114934161975\n",
      "890 test accuracy : 0.394\n",
      "890 test loss     : 1.6436496611722946\n",
      "900 test accuracy : 0.397\n",
      "900 test loss     : 1.6423220562043668\n",
      "910 test accuracy : 0.397\n",
      "910 test loss     : 1.6414419395003235\n",
      "920 test accuracy : 0.398\n",
      "920 test loss     : 1.6415438757150318\n",
      "930 test accuracy : 0.4\n",
      "930 test loss     : 1.639661868289193\n",
      "940 test accuracy : 0.399\n",
      "940 test loss     : 1.6374460419942254\n",
      "950 test accuracy : 0.399\n",
      "950 test loss     : 1.6371291427576482\n",
      "960 test accuracy : 0.402\n",
      "960 test loss     : 1.6376157118319195\n",
      "970 test accuracy : 0.406\n",
      "970 test loss     : 1.6366366892598976\n",
      "980 test accuracy : 0.406\n",
      "980 test loss     : 1.6364445211020453\n",
      "990 test accuracy : 0.404\n",
      "990 test loss     : 1.638261378564841\n"
     ]
    }
   ],
   "source": [
    "history = {'val_acc': [],'val_loss': []} #기록해서 그림 그리자!\n",
    "\n",
    "#코드를 보며 epoch, batch에 대해서 이해해봅시다.\n",
    "for i in range(epoch_size):\n",
    "    for j in range(N//batch_size):\n",
    "        batch_mask = np.random.choice(N, batch_size) #이번 배치에서 쓸 데이터들 인덱스 추출\n",
    "        x_batch = train_data[batch_mask]\n",
    "        t_batch = train_labels[batch_mask]\n",
    "        \n",
    "        nn.backward(x_batch, t_batch) # 가중치 갱신\n",
    "    \n",
    "    #accuracy와 loss를 기록해둡시다.\n",
    "    history[\"val_acc\"].append(nn.accuracy(test_data, test_labels))\n",
    "    history[\"val_loss\"].append(nn.forward(test_data, test_labels))\n",
    "    \n",
    "    if i % 10 == 0:\n",
    "        print(i, \"test accuracy :\", nn.accuracy(test_data, test_labels))\n",
    "        print(i, \"test loss     :\", nn.forward(test_data, test_labels))"
   ]
  },
  {
   "cell_type": "markdown",
   "metadata": {},
   "source": [
    "### 그림 그리기"
   ]
  },
  {
   "cell_type": "code",
   "execution_count": 10,
   "metadata": {},
   "outputs": [
    {
     "data": {
      "image/png": "[encoded data removed]",
      "text/plain": [
       "<Figure size 432x288 with 2 Axes>"
      ]
     },
     "metadata": {
      "needs_background": "light"
     },
     "output_type": "display_data"
    }
   ],
   "source": [
    "fig = plt.figure()\n",
    "ax_acc = fig.add_subplot(111)\n",
    "\n",
    "ax_acc.plot(range(epoch_size), history['val_acc'], label='정확도(%)', color='darkred')\n",
    "#plt.text(3, 14.7, \"<----------------정확도(%)\", verticalalignment='top', horizontalalignment='right')\n",
    "plt.xlabel('epochs')\n",
    "plt.ylabel('Validation Accuracy(%)')\n",
    "ax_acc.grid(linestyle='--', color='lavender')\n",
    "ax_loss = ax_acc.twinx()\n",
    "ax_loss.plot(range(epoch_size), history['val_loss'], label='오차', color='darkblue')\n",
    "#plt.text(3, 2.2, \"<----------------오차\", verticalalignment='top', horizontalalignment='left')\n",
    "plt.ylabel('Validation Error')\n",
    "ax_loss.yaxis.tick_right()\n",
    "ax_loss.grid(linestyle='--', color='lavender')\n",
    "\n",
    "# 그래프 표시\n",
    "plt.show()"
   ]
  },
  {
   "cell_type": "markdown",
   "metadata": {},
   "source": [
    "epoch과 batch size를 변경하여 약간의 성능 향상이 있었지만, 눈에 띌 정도의 변화라고 보기는 어려운 것 같습니다."
   ]
  },
  {
   "cell_type": "code",
   "execution_count": null,
   "metadata": {},
   "outputs": [],
   "source": []
  }
 ],
 "metadata": {
  "kernelspec": {
   "display_name": "Python 3",
   "language": "python",
   "name": "python3"
  },
  "language_info": {
   "codemirror_mode": {
    "name": "ipython",
    "version": 3
   },
   "file_extension": ".py",
   "mimetype": "text/x-python",
   "name": "python",
   "nbconvert_exporter": "python",
   "pygments_lexer": "ipython3",
   "version": "3.7.3"
  }
 },
 "nbformat": 4,
 "nbformat_minor": 4
}
