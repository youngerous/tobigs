{
 "cells": [
  {
   "cell_type": "code",
   "execution_count": 15,
   "metadata": {},
   "outputs": [],
   "source": [
    "import numpy as np\n",
    "import pandas as pd\n",
    "from sklearn.datasets import load_iris\n",
    "from sklearn.model_selection import train_test_split\n",
    "from sklearn.neighbors import KNeighborsClassifier\n",
    "import math"
   ]
  },
  {
   "cell_type": "code",
   "execution_count": 16,
   "metadata": {},
   "outputs": [],
   "source": [
    "iris = load_iris()"
   ]
  },
  {
   "cell_type": "code",
   "execution_count": 17,
   "metadata": {},
   "outputs": [],
   "source": [
    "# iris.data   -> features\n",
    "# iris.target -> labels\n",
    "X = iris.data\n",
    "y = iris.target"
   ]
  },
  {
   "cell_type": "code",
   "execution_count": 18,
   "metadata": {},
   "outputs": [],
   "source": [
    "# split into test and train dataset, and use random_state = 48\n",
    "X_train, X_test, y_train, y_test = train_test_split(X,y, test_size=0.3, random_state=48)\n"
   ]
  },
  {
   "cell_type": "code",
   "execution_count": 19,
   "metadata": {},
   "outputs": [],
   "source": [
    "from sklearn.preprocessing import StandardScaler"
   ]
  },
  {
   "cell_type": "code",
   "execution_count": 20,
   "metadata": {},
   "outputs": [
    {
     "data": {
      "text/plain": [
       "'\\nss = StandardScaler()\\n\\nX_train = ss.fit_transform(X_train)\\nX_test = ss.transform(X_test)\\n'"
      ]
     },
     "execution_count": 20,
     "metadata": {},
     "output_type": "execute_result"
    }
   ],
   "source": [
    "'''\n",
    "ss = StandardScaler()\n",
    "\n",
    "X_train = ss.fit_transform(X_train)\n",
    "X_test = ss.transform(X_test)\n",
    "'''"
   ]
  },
  {
   "cell_type": "code",
   "execution_count": 21,
   "metadata": {},
   "outputs": [],
   "source": [
    "trainSet = np.column_stack((X_train, y_train))\n",
    "testSet  = np.column_stack((X_test, y_test))"
   ]
  },
  {
   "cell_type": "markdown",
   "metadata": {},
   "source": [
    "## KNN Classifier Implementation"
   ]
  },
  {
   "cell_type": "code",
   "execution_count": 22,
   "metadata": {},
   "outputs": [],
   "source": [
    "def getDistance(p, instance1, instance2):\n",
    "    distance = 0\n",
    "    length = len(instance1) - 1 # target 변수값은 제외한다.\n",
    "    \n",
    "    if p == 1: # return Manhattan Distance\n",
    "        for idx in range(length):\n",
    "            distance += abs(instance1[idx]-instance2[idx])\n",
    " \n",
    "    if p == 2: # return Euclidean Distance        \n",
    "        for idx in range(length):\n",
    "            distance += math.pow(instance1[idx] - instance2[idx], 2)\n",
    "        distance = math.sqrt(distance)\n",
    "        \n",
    "    return distance\n",
    "\n"
   ]
  },
  {
   "cell_type": "code",
   "execution_count": 23,
   "metadata": {},
   "outputs": [],
   "source": [
    "def getNeighbors(p, trainSet, testInstance, k):\n",
    "    neighbors = []\n",
    "    \n",
    "    # trainSet을 반복하며 각각의 거리를 계산한 리스트를 얻는다.\n",
    "    dist_list = np.array([getDistance(p, trainSet[idx], testInstance) for idx in range(len(trainSet))])\n",
    "    \n",
    "    # 거리가 가장 짧은 k개 항목을 배열에 저장한다.\n",
    "    for idx in range(k):\n",
    "        shortest = dist_list.argmin()\n",
    "        neighbor = np.append(trainSet[shortest], dist_list[shortest]) # 마지막에 거리를 추가 (Weighted voting을 위하여)\n",
    "        neighbors.append(neighbor)\n",
    "        dist_list[shortest] = 999\n",
    "        \n",
    "    return neighbors\n"
   ]
  },
  {
   "cell_type": "code",
   "execution_count": 24,
   "metadata": {},
   "outputs": [],
   "source": [
    "# import operator\n",
    "\n",
    "def getResponse(neighbors): # Weighted voting을 적용\n",
    "    k = len(neighbors)\n",
    "    similarity = [1/(neighbors[idx][-1]) for idx in range(k)]           # 1 / (거리)\n",
    "    weight = [(similarity[idx]) / sum(similarity) for idx in range(k)]  # (유사도) / (모든 유사도의 합)\n",
    "\n",
    "    # 각 클래스에 대한 dictionary 생성 (key: 클래스, value: 가중치를 더한 값)\n",
    "    classes = dict()\n",
    "    for idx in range(k):\n",
    "        key = neighbors[idx][-2]\n",
    "        classes[key] = classes[key] + weight[idx] if classes.get(key) else 0\n",
    "    \n",
    "    # 값이 가장 큰 클래스를 반환\n",
    "    vote = list(classes.keys())[list(classes.values()).index(max(classes.values()))]\n",
    "    return vote"
   ]
  },
  {
   "cell_type": "code",
   "execution_count": 25,
   "metadata": {},
   "outputs": [],
   "source": [
    "def getAccuracy(testSet, predictions):\n",
    "    total = len(predictions)\n",
    "    correct = 0 \n",
    "    for idx in range(total):\n",
    "        correct += 1 if predictions[idx] == testSet[idx][-1] else 0\n",
    "    \n",
    "    accuracy_score = correct/total\n",
    "    return accuracy_score"
   ]
  },
  {
   "cell_type": "code",
   "execution_count": 26,
   "metadata": {},
   "outputs": [],
   "source": [
    "k = 3\n",
    "p = 2"
   ]
  },
  {
   "cell_type": "code",
   "execution_count": 27,
   "metadata": {},
   "outputs": [
    {
     "name": "stdout",
     "output_type": "stream",
     "text": [
      "0 > predicted : 1.0, actual : 1.0\n",
      "1 > predicted : 1.0, actual : 1.0\n",
      "2 > predicted : 1.0, actual : 2.0\n",
      "3 > predicted : 0.0, actual : 0.0\n",
      "4 > predicted : 1.0, actual : 1.0\n",
      "5 > predicted : 2.0, actual : 2.0\n",
      "6 > predicted : 0.0, actual : 0.0\n",
      "7 > predicted : 2.0, actual : 2.0\n",
      "8 > predicted : 0.0, actual : 0.0\n",
      "9 > predicted : 1.0, actual : 1.0\n",
      "10 > predicted : 2.0, actual : 2.0\n",
      "11 > predicted : 0.0, actual : 0.0\n",
      "12 > predicted : 0.0, actual : 0.0\n",
      "13 > predicted : 2.0, actual : 2.0\n",
      "14 > predicted : 1.0, actual : 1.0\n",
      "15 > predicted : 1.0, actual : 1.0\n",
      "16 > predicted : 0.0, actual : 0.0\n",
      "17 > predicted : 1.0, actual : 1.0\n",
      "18 > predicted : 2.0, actual : 1.0\n",
      "19 > predicted : 2.0, actual : 2.0\n",
      "20 > predicted : 0.0, actual : 0.0\n",
      "21 > predicted : 2.0, actual : 2.0\n",
      "22 > predicted : 1.0, actual : 1.0\n",
      "23 > predicted : 1.0, actual : 1.0\n",
      "24 > predicted : 2.0, actual : 2.0\n",
      "25 > predicted : 0.0, actual : 0.0\n",
      "26 > predicted : 0.0, actual : 0.0\n",
      "27 > predicted : 2.0, actual : 2.0\n",
      "28 > predicted : 2.0, actual : 2.0\n",
      "29 > predicted : 1.0, actual : 1.0\n",
      "30 > predicted : 2.0, actual : 2.0\n",
      "31 > predicted : 1.0, actual : 1.0\n",
      "32 > predicted : 2.0, actual : 2.0\n",
      "33 > predicted : 0.0, actual : 0.0\n",
      "34 > predicted : 1.0, actual : 1.0\n",
      "35 > predicted : 2.0, actual : 2.0\n",
      "36 > predicted : 2.0, actual : 2.0\n",
      "37 > predicted : 1.0, actual : 1.0\n",
      "38 > predicted : 0.0, actual : 0.0\n",
      "39 > predicted : 1.0, actual : 1.0\n",
      "40 > predicted : 1.0, actual : 1.0\n",
      "41 > predicted : 1.0, actual : 1.0\n",
      "42 > predicted : 2.0, actual : 2.0\n",
      "43 > predicted : 2.0, actual : 2.0\n",
      "44 > predicted : 1.0, actual : 1.0\n"
     ]
    }
   ],
   "source": [
    "predictions=[]\n",
    "\n",
    "for i in range(len(testSet)):\n",
    "    neighbors = getNeighbors(p, trainSet, testSet[i], k)\n",
    "    result = getResponse(neighbors)\n",
    "    predictions.append(result)\n",
    "    print(str(i) + ' > predicted : ' + str(result) + ', actual : ' + str(testSet[i][-1]))"
   ]
  },
  {
   "cell_type": "code",
   "execution_count": 28,
   "metadata": {},
   "outputs": [
    {
     "name": "stdout",
     "output_type": "stream",
     "text": [
      "Accuracy: 0.9555555555555556%\n"
     ]
    }
   ],
   "source": [
    "accuracy = getAccuracy(testSet, predictions)\n",
    "print('Accuracy: ' + str(accuracy) + '%')"
   ]
  },
  {
   "cell_type": "markdown",
   "metadata": {},
   "source": [
    "StandardScaler를 사용할 경우 <br/>\n",
    "Accuracy: 0.8666666666666667% 의 결과를 보인다."
   ]
  }
 ],
 "metadata": {
  "kernelspec": {
   "display_name": "Python 3",
   "language": "python",
   "name": "python3"
  },
  "language_info": {
   "codemirror_mode": {
    "name": "ipython",
    "version": 3
   },
   "file_extension": ".py",
   "mimetype": "text/x-python",
   "name": "python",
   "nbconvert_exporter": "python",
   "pygments_lexer": "ipython3",
   "version": "3.7.3"
  }
 },
 "nbformat": 4,
 "nbformat_minor": 2
}
