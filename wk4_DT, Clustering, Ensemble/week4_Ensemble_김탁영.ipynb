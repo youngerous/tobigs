{
 "cells": [
  {
   "cell_type": "markdown",
   "metadata": {},
   "source": [
    "# Predicting the opening / closing of hospitals!"
   ]
  },
  {
   "cell_type": "code",
   "execution_count": 109,
   "metadata": {},
   "outputs": [],
   "source": [
    "import pandas as pd\n",
    "import numpy as np\n",
    "from sklearn.model_selection import cross_val_score\n"
   ]
  },
  {
   "cell_type": "code",
   "execution_count": 110,
   "metadata": {},
   "outputs": [],
   "source": [
    "import pickle\n",
    "train_data = 0\n",
    "test_data = 0\n",
    "\n",
    "with open('train_data.pkl', 'rb') as f:\n",
    "    train_data = pickle.load(f)\n",
    "\n",
    "with open('test_data.pkl', 'rb') as f:\n",
    "    test_data = pickle.load(f)\n"
   ]
  },
  {
   "cell_type": "code",
   "execution_count": 111,
   "metadata": {},
   "outputs": [],
   "source": [
    "train_X = np.array(train_data.iloc[:,2:])\n",
    "train_y = np.array(train_data['OC'])\n",
    "\n",
    "test_X = np.array(test_data.iloc[:,2:])\n",
    "\n",
    "ID = np.array(test_data.inst_id)"
   ]
  },
  {
   "cell_type": "markdown",
   "metadata": {},
   "source": [
    "---"
   ]
  },
  {
   "cell_type": "markdown",
   "metadata": {},
   "source": [
    "# Gradient Boosting"
   ]
  },
  {
   "cell_type": "code",
   "execution_count": 112,
   "metadata": {},
   "outputs": [],
   "source": [
    "from sklearn.ensemble import GradientBoostingClassifier"
   ]
  },
  {
   "cell_type": "code",
   "execution_count": 113,
   "metadata": {},
   "outputs": [],
   "source": [
    "eclf_gb = GradientBoostingClassifier(n_estimators=100, learning_rate=0.1)"
   ]
  },
  {
   "cell_type": "code",
   "execution_count": 114,
   "metadata": {},
   "outputs": [
    {
     "data": {
      "text/plain": [
       "0.9534972677595629"
      ]
     },
     "execution_count": 114,
     "metadata": {},
     "output_type": "execute_result"
    }
   ],
   "source": [
    "cross_val_score(eclf_gb, train_X, train_y, cv=5).mean()"
   ]
  },
  {
   "cell_type": "code",
   "execution_count": 115,
   "metadata": {},
   "outputs": [],
   "source": [
    "params = {\n",
    "    'n_estimators': [10,20,30,50,100,150,200],\n",
    "    'learning_rate': [i for i in np.linspace(0.1,1,10)]\n",
    "}"
   ]
  },
  {
   "cell_type": "code",
   "execution_count": 116,
   "metadata": {},
   "outputs": [
    {
     "name": "stderr",
     "output_type": "stream",
     "text": [
      "/Users/youngerous/anaconda3/envs/young/lib/python3.7/site-packages/sklearn/model_selection/_search.py:813: DeprecationWarning: The default of the `iid` parameter will change from True to False in version 0.22 and will be removed in 0.24. This will change numeric results when test-set sizes are unequal.\n",
      "  DeprecationWarning)\n"
     ]
    }
   ],
   "source": [
    "from sklearn.model_selection import GridSearchCV\n",
    "grid = GridSearchCV(estimator=eclf_gb, param_grid=params, cv=5, n_jobs=-1)\n",
    "grid = grid.fit(train_X, train_y)"
   ]
  },
  {
   "cell_type": "code",
   "execution_count": 117,
   "metadata": {},
   "outputs": [
    {
     "data": {
      "text/plain": [
       "0.9568106312292359"
      ]
     },
     "execution_count": 117,
     "metadata": {},
     "output_type": "execute_result"
    }
   ],
   "source": [
    "grid.best_score_"
   ]
  },
  {
   "cell_type": "code",
   "execution_count": 118,
   "metadata": {},
   "outputs": [
    {
     "data": {
      "text/plain": [
       "{'learning_rate': 0.1, 'n_estimators': 10}"
      ]
     },
     "execution_count": 118,
     "metadata": {},
     "output_type": "execute_result"
    }
   ],
   "source": [
    "grid.best_params_"
   ]
  },
  {
   "cell_type": "code",
   "execution_count": 119,
   "metadata": {},
   "outputs": [],
   "source": [
    "# best parameter에 맞추어 수정\n",
    "eclf_gb = GradientBoostingClassifier(n_estimators=10, learning_rate=0.1)"
   ]
  },
  {
   "cell_type": "code",
   "execution_count": 120,
   "metadata": {},
   "outputs": [],
   "source": [
    "model_gb = eclf_gb.fit(train_X, train_y)\n",
    "pred_gb = eclf_gb.predict_proba(test_X)[:,1]\n",
    "\n",
    "result_gb = pd.DataFrame({'inst_id':ID, 'OC':pred_gb})"
   ]
  },
  {
   "cell_type": "markdown",
   "metadata": {},
   "source": [
    "---"
   ]
  },
  {
   "cell_type": "markdown",
   "metadata": {},
   "source": [
    "# Random Forest"
   ]
  },
  {
   "cell_type": "code",
   "execution_count": 121,
   "metadata": {},
   "outputs": [],
   "source": [
    "# RF\n",
    "from sklearn.ensemble import RandomForestClassifier\n",
    "eclf_rf = RandomForestClassifier(n_estimators=100,\n",
    "                              max_features=2,\n",
    "                              n_jobs=-1,\n",
    "                              oob_score = True)"
   ]
  },
  {
   "cell_type": "code",
   "execution_count": 122,
   "metadata": {},
   "outputs": [
    {
     "data": {
      "text/plain": [
       "0.9468306010928963"
      ]
     },
     "execution_count": 122,
     "metadata": {},
     "output_type": "execute_result"
    }
   ],
   "source": [
    "cross_val_score(eclf_rf, train_X, train_y, cv=5).mean()"
   ]
  },
  {
   "cell_type": "code",
   "execution_count": 123,
   "metadata": {},
   "outputs": [],
   "source": [
    "params = {\n",
    "    'n_estimators' : [10, 20, 30, 50, 100],\n",
    "    'max_features' : [1,2,3,4,5,6,7,10,15,20,25,len(train_X[0])]\n",
    "}"
   ]
  },
  {
   "cell_type": "code",
   "execution_count": 124,
   "metadata": {},
   "outputs": [
    {
     "name": "stderr",
     "output_type": "stream",
     "text": [
      "/Users/youngerous/anaconda3/envs/young/lib/python3.7/site-packages/sklearn/model_selection/_search.py:813: DeprecationWarning: The default of the `iid` parameter will change from True to False in version 0.22 and will be removed in 0.24. This will change numeric results when test-set sizes are unequal.\n",
      "  DeprecationWarning)\n"
     ]
    }
   ],
   "source": [
    "from sklearn.model_selection import GridSearchCV\n",
    "grid = GridSearchCV(estimator=eclf_rf, param_grid=params, cv=5, n_jobs=-1)\n",
    "grid = grid.fit(train_X, train_y)"
   ]
  },
  {
   "cell_type": "code",
   "execution_count": 125,
   "metadata": {},
   "outputs": [
    {
     "data": {
      "text/plain": [
       "0.9601328903654485"
      ]
     },
     "execution_count": 125,
     "metadata": {},
     "output_type": "execute_result"
    }
   ],
   "source": [
    "grid.best_score_"
   ]
  },
  {
   "cell_type": "code",
   "execution_count": 126,
   "metadata": {},
   "outputs": [
    {
     "data": {
      "text/plain": [
       "{'max_features': 10, 'n_estimators': 50}"
      ]
     },
     "execution_count": 126,
     "metadata": {},
     "output_type": "execute_result"
    }
   ],
   "source": [
    "grid.best_params_"
   ]
  },
  {
   "cell_type": "code",
   "execution_count": 127,
   "metadata": {},
   "outputs": [
    {
     "data": {
      "text/plain": [
       "0.9435215946843853"
      ]
     },
     "execution_count": 127,
     "metadata": {},
     "output_type": "execute_result"
    }
   ],
   "source": [
    "grid.best_estimator_.oob_score_"
   ]
  },
  {
   "cell_type": "code",
   "execution_count": 128,
   "metadata": {},
   "outputs": [
    {
     "data": {
      "text/plain": [
       "array([0.01517624, 0.03387023, 0.06739127, 0.117588  , 0.03841295,\n",
       "       0.01154649, 0.00977793, 0.01550736, 0.02006689, 0.01591249,\n",
       "       0.01961065, 0.01856602, 0.00843127, 0.0496472 , 0.00527907,\n",
       "       0.01015249, 0.01076805, 0.00792578, 0.00989993, 0.00763127,\n",
       "       0.00695587, 0.0200983 , 0.00664676, 0.01114517, 0.00590345,\n",
       "       0.01138791, 0.01741216, 0.01093838, 0.01979644, 0.01317454,\n",
       "       0.        , 0.01209884, 0.01851922, 0.01265705, 0.01314064,\n",
       "       0.01583526, 0.00518947, 0.04508333, 0.01344128, 0.00867074,\n",
       "       0.01632044, 0.01149173, 0.01388117, 0.01529793, 0.00906903,\n",
       "       0.01707655, 0.01509477, 0.00819941, 0.0061539 , 0.01026659,\n",
       "       0.01003307, 0.0075477 , 0.00166719, 0.01547864, 0.04938754,\n",
       "       0.03177797])"
      ]
     },
     "execution_count": 128,
     "metadata": {},
     "output_type": "execute_result"
    }
   ],
   "source": [
    "grid.best_estimator_.feature_importances_"
   ]
  },
  {
   "cell_type": "code",
   "execution_count": 129,
   "metadata": {},
   "outputs": [
    {
     "data": {
      "text/plain": [
       "array([ 3,  2, 13, 54, 37,  4,  1, 55, 21,  8, 28, 10, 11, 32, 26, 45, 40,\n",
       "        9, 35,  7, 53, 43,  0, 46, 42, 38, 29, 34, 33, 31,  5, 41, 25, 23,\n",
       "       27, 16, 49, 15, 50, 18,  6, 44, 39, 12, 47, 17, 19, 51, 20, 22, 48,\n",
       "       24, 14, 36, 52, 30])"
      ]
     },
     "execution_count": 129,
     "metadata": {},
     "output_type": "execute_result"
    }
   ],
   "source": [
    "np.argsort(grid.best_estimator_.feature_importances_)[::-1]"
   ]
  },
  {
   "cell_type": "code",
   "execution_count": 159,
   "metadata": {},
   "outputs": [
    {
     "name": "stdout",
     "output_type": "stream",
     "text": [
      "변수 surplus1 가 중요도가 가장 높게 출력되었다.\n"
     ]
    }
   ],
   "source": [
    "print('변수',train_data.columns[30],'가 중요도가 가장 높게 출력되었다.')"
   ]
  },
  {
   "cell_type": "code",
   "execution_count": 130,
   "metadata": {},
   "outputs": [],
   "source": [
    "# best parameter에 맞추어 수정\n",
    "from sklearn.ensemble import RandomForestClassifier\n",
    "eclf_rf = RandomForestClassifier(n_estimators=100,\n",
    "                              max_features=20,\n",
    "                              n_jobs=-1,\n",
    "                              oob_score = True)"
   ]
  },
  {
   "cell_type": "code",
   "execution_count": 131,
   "metadata": {},
   "outputs": [],
   "source": [
    "model_rf = eclf_rf.fit(train_X, train_y)\n",
    "pred_rf  = eclf_rf.predict_proba(test_X)[:,1]\n",
    "\n",
    "result_rf = pd.DataFrame({'inst_id':ID, 'OC':pred_rf})"
   ]
  },
  {
   "cell_type": "markdown",
   "metadata": {},
   "source": [
    "---\n",
    "# XGBoost"
   ]
  },
  {
   "cell_type": "code",
   "execution_count": 132,
   "metadata": {},
   "outputs": [],
   "source": [
    "from xgboost import XGBClassifier\n",
    "\n",
    "eclf_xgb = XGBClassifier(n_estimators=1000, max_depth=2, learning_rate=0.5, nthread=7)\n",
    "model_xgb = eclf_xgb.fit(train_X, train_y)\n",
    "pred_xgb = eclf_xgb.predict_proba(test_X)[:,1]\n",
    "\n",
    "result_xgb = pd.DataFrame({'inst_id':ID, 'OC':pred_xgb})"
   ]
  },
  {
   "cell_type": "code",
   "execution_count": 133,
   "metadata": {},
   "outputs": [
    {
     "data": {
      "text/plain": [
       "0.9468306010928963"
      ]
     },
     "execution_count": 133,
     "metadata": {},
     "output_type": "execute_result"
    }
   ],
   "source": [
    "cross_val_score(eclf_xgb, train_X, train_y, cv=5).mean()"
   ]
  },
  {
   "cell_type": "markdown",
   "metadata": {},
   "source": [
    "---"
   ]
  },
  {
   "cell_type": "code",
   "execution_count": 186,
   "metadata": {},
   "outputs": [],
   "source": [
    "ensemble = pd.DataFrame({'inst_id':ID})"
   ]
  },
  {
   "cell_type": "code",
   "execution_count": 187,
   "metadata": {},
   "outputs": [
    {
     "data": {
      "text/html": [
       "<div>\n",
       "<style scoped>\n",
       "    .dataframe tbody tr th:only-of-type {\n",
       "        vertical-align: middle;\n",
       "    }\n",
       "\n",
       "    .dataframe tbody tr th {\n",
       "        vertical-align: top;\n",
       "    }\n",
       "\n",
       "    .dataframe thead th {\n",
       "        text-align: right;\n",
       "    }\n",
       "</style>\n",
       "<table border=\"1\" class=\"dataframe\">\n",
       "  <thead>\n",
       "    <tr style=\"text-align: right;\">\n",
       "      <th></th>\n",
       "      <th>inst_id</th>\n",
       "      <th>GB</th>\n",
       "      <th>RF</th>\n",
       "      <th>XGB</th>\n",
       "    </tr>\n",
       "  </thead>\n",
       "  <tbody>\n",
       "    <tr>\n",
       "      <th>0</th>\n",
       "      <td>2</td>\n",
       "      <td>0.965355</td>\n",
       "      <td>0.96</td>\n",
       "      <td>0.999075</td>\n",
       "    </tr>\n",
       "    <tr>\n",
       "      <th>1</th>\n",
       "      <td>5</td>\n",
       "      <td>0.421943</td>\n",
       "      <td>0.76</td>\n",
       "      <td>0.972123</td>\n",
       "    </tr>\n",
       "    <tr>\n",
       "      <th>2</th>\n",
       "      <td>6</td>\n",
       "      <td>0.694844</td>\n",
       "      <td>0.52</td>\n",
       "      <td>0.903616</td>\n",
       "    </tr>\n",
       "    <tr>\n",
       "      <th>3</th>\n",
       "      <td>8</td>\n",
       "      <td>0.975941</td>\n",
       "      <td>0.89</td>\n",
       "      <td>0.997092</td>\n",
       "    </tr>\n",
       "    <tr>\n",
       "      <th>4</th>\n",
       "      <td>10</td>\n",
       "      <td>0.965355</td>\n",
       "      <td>0.95</td>\n",
       "      <td>0.997635</td>\n",
       "    </tr>\n",
       "  </tbody>\n",
       "</table>\n",
       "</div>"
      ],
      "text/plain": [
       "   inst_id        GB    RF       XGB\n",
       "0        2  0.965355  0.96  0.999075\n",
       "1        5  0.421943  0.76  0.972123\n",
       "2        6  0.694844  0.52  0.903616\n",
       "3        8  0.975941  0.89  0.997092\n",
       "4       10  0.965355  0.95  0.997635"
      ]
     },
     "execution_count": 187,
     "metadata": {},
     "output_type": "execute_result"
    }
   ],
   "source": [
    "ensemble['GB']  = result_gb['OC']\n",
    "ensemble['RF']  = result_rf['OC']\n",
    "ensemble['XGB'] = result_xgb['OC']\n",
    "ensemble.head()"
   ]
  },
  {
   "cell_type": "code",
   "execution_count": 188,
   "metadata": {},
   "outputs": [],
   "source": [
    "ensemble['avg'] = (ensemble['GB'] + ensemble['RF'] + ensemble['XGB']) / 3"
   ]
  },
  {
   "cell_type": "code",
   "execution_count": 189,
   "metadata": {},
   "outputs": [],
   "source": [
    "# 0.8을 기준으로 타겟변수 분류\n",
    "ensemble['OC'] = (ensemble['avg'] > 0.8).astype(int)"
   ]
  },
  {
   "cell_type": "code",
   "execution_count": 190,
   "metadata": {},
   "outputs": [],
   "source": [
    "ensemble = ensemble.loc[:, ['inst_id','OC']]"
   ]
  },
  {
   "cell_type": "code",
   "execution_count": 191,
   "metadata": {},
   "outputs": [],
   "source": [
    "ensemble.to_csv('submission.csv', index=False)"
   ]
  },
  {
   "cell_type": "markdown",
   "metadata": {},
   "source": [
    "92.91339의 정확도"
   ]
  },
  {
   "cell_type": "code",
   "execution_count": null,
   "metadata": {},
   "outputs": [],
   "source": []
  }
 ],
 "metadata": {
  "kernelspec": {
   "display_name": "Python 3",
   "language": "python",
   "name": "python3"
  },
  "language_info": {
   "codemirror_mode": {
    "name": "ipython",
    "version": 3
   },
   "file_extension": ".py",
   "mimetype": "text/x-python",
   "name": "python",
   "nbconvert_exporter": "python",
   "pygments_lexer": "ipython3",
   "version": "3.7.3"
  }
 },
 "nbformat": 4,
 "nbformat_minor": 4
}
