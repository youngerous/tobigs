{
 "cells": [
  {
   "cell_type": "markdown",
   "metadata": {},
   "source": [
    "# DT Assignment1 - 12기 김탁영"
   ]
  },
  {
   "cell_type": "markdown",
   "metadata": {},
   "source": [
    "# Data Loading"
   ]
  },
  {
   "cell_type": "code",
   "execution_count": 4,
   "metadata": {},
   "outputs": [],
   "source": [
    "import pandas as pd \n",
    "import numpy as np\n",
    "from IPython.display import Image"
   ]
  },
  {
   "cell_type": "code",
   "execution_count": 5,
   "metadata": {},
   "outputs": [
    {
     "data": {
      "text/html": [
       "<div>\n",
       "<style scoped>\n",
       "    .dataframe tbody tr th:only-of-type {\n",
       "        vertical-align: middle;\n",
       "    }\n",
       "\n",
       "    .dataframe tbody tr th {\n",
       "        vertical-align: top;\n",
       "    }\n",
       "\n",
       "    .dataframe thead th {\n",
       "        text-align: right;\n",
       "    }\n",
       "</style>\n",
       "<table border=\"1\" class=\"dataframe\">\n",
       "  <thead>\n",
       "    <tr style=\"text-align: right;\">\n",
       "      <th></th>\n",
       "      <th>age</th>\n",
       "      <th>income</th>\n",
       "      <th>student</th>\n",
       "      <th>credit_rating</th>\n",
       "      <th>class_buys_computer</th>\n",
       "    </tr>\n",
       "  </thead>\n",
       "  <tbody>\n",
       "    <tr>\n",
       "      <th>0</th>\n",
       "      <td>youth</td>\n",
       "      <td>high</td>\n",
       "      <td>no</td>\n",
       "      <td>fair</td>\n",
       "      <td>no</td>\n",
       "    </tr>\n",
       "    <tr>\n",
       "      <th>1</th>\n",
       "      <td>youth</td>\n",
       "      <td>high</td>\n",
       "      <td>no</td>\n",
       "      <td>excellent</td>\n",
       "      <td>no</td>\n",
       "    </tr>\n",
       "    <tr>\n",
       "      <th>2</th>\n",
       "      <td>middle_aged</td>\n",
       "      <td>high</td>\n",
       "      <td>no</td>\n",
       "      <td>fair</td>\n",
       "      <td>yes</td>\n",
       "    </tr>\n",
       "    <tr>\n",
       "      <th>3</th>\n",
       "      <td>senior</td>\n",
       "      <td>medium</td>\n",
       "      <td>no</td>\n",
       "      <td>fair</td>\n",
       "      <td>yes</td>\n",
       "    </tr>\n",
       "    <tr>\n",
       "      <th>4</th>\n",
       "      <td>senior</td>\n",
       "      <td>low</td>\n",
       "      <td>yes</td>\n",
       "      <td>fair</td>\n",
       "      <td>yes</td>\n",
       "    </tr>\n",
       "    <tr>\n",
       "      <th>5</th>\n",
       "      <td>senior</td>\n",
       "      <td>low</td>\n",
       "      <td>yes</td>\n",
       "      <td>excellent</td>\n",
       "      <td>no</td>\n",
       "    </tr>\n",
       "    <tr>\n",
       "      <th>6</th>\n",
       "      <td>middle_aged</td>\n",
       "      <td>low</td>\n",
       "      <td>yes</td>\n",
       "      <td>excellent</td>\n",
       "      <td>yes</td>\n",
       "    </tr>\n",
       "    <tr>\n",
       "      <th>7</th>\n",
       "      <td>youth</td>\n",
       "      <td>medium</td>\n",
       "      <td>no</td>\n",
       "      <td>fair</td>\n",
       "      <td>no</td>\n",
       "    </tr>\n",
       "    <tr>\n",
       "      <th>8</th>\n",
       "      <td>youth</td>\n",
       "      <td>low</td>\n",
       "      <td>yes</td>\n",
       "      <td>fair</td>\n",
       "      <td>yes</td>\n",
       "    </tr>\n",
       "    <tr>\n",
       "      <th>9</th>\n",
       "      <td>senior</td>\n",
       "      <td>medium</td>\n",
       "      <td>yes</td>\n",
       "      <td>fair</td>\n",
       "      <td>yes</td>\n",
       "    </tr>\n",
       "    <tr>\n",
       "      <th>10</th>\n",
       "      <td>youth</td>\n",
       "      <td>medium</td>\n",
       "      <td>yes</td>\n",
       "      <td>excellent</td>\n",
       "      <td>yes</td>\n",
       "    </tr>\n",
       "    <tr>\n",
       "      <th>11</th>\n",
       "      <td>middle_aged</td>\n",
       "      <td>medium</td>\n",
       "      <td>no</td>\n",
       "      <td>excellent</td>\n",
       "      <td>yes</td>\n",
       "    </tr>\n",
       "    <tr>\n",
       "      <th>12</th>\n",
       "      <td>middle_aged</td>\n",
       "      <td>high</td>\n",
       "      <td>yes</td>\n",
       "      <td>fair</td>\n",
       "      <td>yes</td>\n",
       "    </tr>\n",
       "    <tr>\n",
       "      <th>13</th>\n",
       "      <td>senior</td>\n",
       "      <td>medium</td>\n",
       "      <td>no</td>\n",
       "      <td>excellent</td>\n",
       "      <td>no</td>\n",
       "    </tr>\n",
       "  </tbody>\n",
       "</table>\n",
       "</div>"
      ],
      "text/plain": [
       "            age  income student credit_rating class_buys_computer\n",
       "0         youth    high      no          fair                  no\n",
       "1         youth    high      no     excellent                  no\n",
       "2   middle_aged    high      no          fair                 yes\n",
       "3        senior  medium      no          fair                 yes\n",
       "4        senior     low     yes          fair                 yes\n",
       "5        senior     low     yes     excellent                  no\n",
       "6   middle_aged     low     yes     excellent                 yes\n",
       "7         youth  medium      no          fair                  no\n",
       "8         youth     low     yes          fair                 yes\n",
       "9        senior  medium     yes          fair                 yes\n",
       "10        youth  medium     yes     excellent                 yes\n",
       "11  middle_aged  medium      no     excellent                 yes\n",
       "12  middle_aged    high     yes          fair                 yes\n",
       "13       senior  medium      no     excellent                  no"
      ]
     },
     "execution_count": 5,
     "metadata": {},
     "output_type": "execute_result"
    }
   ],
   "source": [
    "pd_data = pd.read_csv('https://raw.githubusercontent.com/AugustLONG/ML01/master/01decisiontree/AllElectronics.csv')\n",
    "pd_data.drop(\"RID\",axis=1, inplace = True) #RID는 그냥 순서라서 삭제\n",
    "pd_data"
   ]
  },
  {
   "cell_type": "markdown",
   "metadata": {},
   "source": [
    "# 1. Gini 계수를 구하는 함수 만들기"
   ]
  },
  {
   "cell_type": "markdown",
   "metadata": {},
   "source": [
    "- Input: df(데이터), label(타겟변수명)\n",
    "- 해당 결과는 아래와 같이 나와야 합니다."
   ]
  },
  {
   "cell_type": "code",
   "execution_count": 6,
   "metadata": {},
   "outputs": [
    {
     "data": {
      "image/png": "[encoded data removed]",
      "text/plain": [
       "<IPython.core.display.Image object>"
      ]
     },
     "execution_count": 6,
     "metadata": {},
     "output_type": "execute_result"
    }
   ],
   "source": [
    "Image('get_gini.png') # get_gini 함수에 사용되는 공식 (Pj에 제곱 필요 - 그림 오타)"
   ]
  },
  {
   "cell_type": "code",
   "execution_count": 7,
   "metadata": {},
   "outputs": [],
   "source": [
    "def get_gini(df, label): \n",
    "    class_total = df[label]         # 타겟변수 내 전체 데이터\n",
    "    class_uniq = df[label].unique() # 타겟변수 내 고유 클래스의 집합\n",
    "\n",
    "    gini = 1\n",
    "    for each in class_uniq: # 위 공식에 맞게 지니계수를 계산한다. \n",
    "        gini += -(len(class_total.loc[class_total == each]) / len(class_total)) ** 2\n",
    "    \n",
    "    return gini    "
   ]
  },
  {
   "cell_type": "code",
   "execution_count": 8,
   "metadata": {},
   "outputs": [
    {
     "data": {
      "text/plain": [
       "0.4591836734693877"
      ]
     },
     "execution_count": 8,
     "metadata": {},
     "output_type": "execute_result"
    }
   ],
   "source": [
    "get_gini(pd_data,'class_buys_computer')"
   ]
  },
  {
   "cell_type": "markdown",
   "metadata": {},
   "source": [
    "# 2. Feature의 Class를 이진 분류로 만들기\n",
    " ## ex) {A,B,C} -> ({A}, {B,C}), ({B}, {A,C}), ({C}, {A,B})"
   ]
  },
  {
   "cell_type": "markdown",
   "metadata": {},
   "source": [
    "- Input: df(데이터), attribute(Gini index를 구하고자 하는 변수명)\n",
    "- 해당 결과는 아래와 같이 나와야 합니다."
   ]
  },
  {
   "cell_type": "code",
   "execution_count": 9,
   "metadata": {},
   "outputs": [],
   "source": [
    "from itertools import combinations\n",
    "\n",
    "def get_binary_split(df, attribute):\n",
    "    class_uniq = df[attribute].unique() # 고유 클래스의 집합 (클래스가 하나뿐인 것은 무의미하기 때문에 길이가 2 이상이라 가정)\n",
    "    \n",
    "    result = []\n",
    "    # Binary split을 전제로 하기 때문에 절반 길이의 조합만 구해도 나머지가 구해진다.\n",
    "    for i in range(1, len(class_uniq)//2 + 1):\n",
    "        combi = list(combinations(class_uniq, i)) # 각 항목이 n개로 이루어진 조합(부분집합)을 리스트로 만든다.\n",
    "        \n",
    "        for j in range(len(combi)): # (A,B)로 split된다고 가정하면 A를 먼저 결과에 저장한다.\n",
    "            result.append(list(combi[j]))\n",
    "        \n",
    "        # 클래스가 2개인 경우에는 (1,1)로 나뉘어 B에 해당되는 나머지가 자동 저장되므로 따로 계산할 필요가 없다.\n",
    "        if len(class_uniq) > 2:\n",
    "            # 각각의 A에 대하여 A를 포함하지 않는(binary split된) 나머지인 B를 저장한다.\n",
    "            for j in range(len(combi)):\n",
    "                # 전체 조합에서 A 부분을 삭제한 나머지를 저장\n",
    "                tmp = list(df[attribute].unique())\n",
    "                for elm in list(combi[j]):\n",
    "                    tmp.remove(elm)\n",
    "                result.append(tmp)\n",
    "                \n",
    "    return result"
   ]
  },
  {
   "cell_type": "code",
   "execution_count": 10,
   "metadata": {},
   "outputs": [
    {
     "data": {
      "text/plain": [
       "[['fair'], ['excellent']]"
      ]
     },
     "execution_count": 10,
     "metadata": {},
     "output_type": "execute_result"
    }
   ],
   "source": [
    "get_binary_split(pd_data,'credit_rating') # 클래스가 2개인 경우"
   ]
  },
  {
   "cell_type": "code",
   "execution_count": 11,
   "metadata": {},
   "outputs": [
    {
     "data": {
      "text/plain": [
       "[['youth'],\n",
       " ['middle_aged'],\n",
       " ['senior'],\n",
       " ['middle_aged', 'senior'],\n",
       " ['youth', 'senior'],\n",
       " ['youth', 'middle_aged']]"
      ]
     },
     "execution_count": 11,
     "metadata": {},
     "output_type": "execute_result"
    }
   ],
   "source": [
    "get_binary_split(pd_data,\"age\") # 클래스가 3개인 경우"
   ]
  },
  {
   "cell_type": "markdown",
   "metadata": {},
   "source": [
    "# 3. 다음은 모든 이진분류의 경우의 Gini index를 구하는 함수 만들기\n",
    "- 위에서 완성한 두 함수를 사용하여 만들어주세요!\n",
    "- 해당 결과는 아래와 같이 나와야 합니다."
   ]
  },
  {
   "cell_type": "code",
   "execution_count": 12,
   "metadata": {},
   "outputs": [
    {
     "data": {
      "image/png": "[encoded data removed]",
      "text/plain": [
       "<IPython.core.display.Image object>"
      ]
     },
     "execution_count": 12,
     "metadata": {},
     "output_type": "execute_result"
    }
   ],
   "source": [
    "Image('get_attribute_gini_index.png') # get_attribute_gini_index 함수에 사용되는 공식"
   ]
  },
  {
   "cell_type": "code",
   "execution_count": 13,
   "metadata": {},
   "outputs": [],
   "source": [
    "def get_attribute_gini_index(df, attribute, label):\n",
    "    class_total = df[attribute]         # 변수의 전체 데이터\n",
    "    class_uniq = df[attribute].unique() # 고유 클래스의 집합 (클래스가 하나뿐인 것은 무의미하기 때문에 길이가 2 이상이라 가정)\n",
    "\n",
    "    bin_split = get_binary_split(df, attribute) # binary split된 조합 데이터\n",
    "\n",
    "    result = {}\n",
    "    gini = 0\n",
    "    for elm in bin_split: # 각 split 항목에 대한 gini index를 구한다.\n",
    "        included = np.isin(class_total,elm)            # elm을 포함 여부를 나타내는 Boolean index\n",
    "        num_positive = len(included[included] == True) # elm 내용을 포함하는 데이터의 개수\n",
    "        num_negative = len(class_total) - num_positive # elm 내용을 포함하지 않는 데이터의 개수\n",
    "        \n",
    "        # 위 공식에 맞게 계산한다.\n",
    "        gini = (num_positive / len(class_total)) * get_gini(df.loc[included == True], label) + \\\n",
    "                (num_negative / len(class_total)) * get_gini(df.loc[included == False], label)\n",
    "        result['_'.join(elm)] = gini\n",
    "            \n",
    "    return result"
   ]
  },
  {
   "cell_type": "code",
   "execution_count": 14,
   "metadata": {},
   "outputs": [
    {
     "data": {
      "text/plain": [
       "{'youth': 0.3936507936507937,\n",
       " 'middle_aged': 0.35714285714285715,\n",
       " 'senior': 0.45714285714285713,\n",
       " 'middle_aged_senior': 0.3936507936507937,\n",
       " 'youth_senior': 0.35714285714285715,\n",
       " 'youth_middle_aged': 0.45714285714285713}"
      ]
     },
     "execution_count": 14,
     "metadata": {},
     "output_type": "execute_result"
    }
   ],
   "source": [
    "get_attribute_gini_index(pd_data, \"age\", \"class_buys_computer\")"
   ]
  },
  {
   "cell_type": "markdown",
   "metadata": {},
   "source": [
    "여기서 가장 작은 Gini index값을 가지는 class를 기준으로 split해야겠죠?"
   ]
  },
  {
   "cell_type": "code",
   "execution_count": 15,
   "metadata": {},
   "outputs": [
    {
     "data": {
      "text/plain": [
       "('middle_aged', 0.35714285714285715)"
      ]
     },
     "execution_count": 15,
     "metadata": {},
     "output_type": "execute_result"
    }
   ],
   "source": [
    "min(get_attribute_gini_index(pd_data, \"age\", \"class_buys_computer\").items())"
   ]
  },
  {
   "cell_type": "markdown",
   "metadata": {},
   "source": [
    "# 다음의 문제를 위에서 작성한 함수를 통해 구한 값으로 보여주세요!\n",
    "## 문제1) 변수 ‘income’의 이진분류 결과를 보여주세요."
   ]
  },
  {
   "cell_type": "code",
   "execution_count": 16,
   "metadata": {},
   "outputs": [
    {
     "data": {
      "text/plain": [
       "[['high'],\n",
       " ['medium'],\n",
       " ['low'],\n",
       " ['medium', 'low'],\n",
       " ['high', 'low'],\n",
       " ['high', 'medium']]"
      ]
     },
     "execution_count": 16,
     "metadata": {},
     "output_type": "execute_result"
    }
   ],
   "source": [
    "##문제1 답안\n",
    "get_binary_split(pd_data, 'income')"
   ]
  },
  {
   "cell_type": "markdown",
   "metadata": {},
   "source": [
    "## 문제2) 분류를 하는 데 가장 중요한 변수를 선정하고, 해당 변수의 Gini index를 제시해주세요."
   ]
  },
  {
   "cell_type": "code",
   "execution_count": 17,
   "metadata": {},
   "outputs": [
    {
     "data": {
      "text/plain": [
       "(('middle_aged', 0.35714285714285715),\n",
       " ('high', 0.4428571428571429),\n",
       " ('no', 0.3673469387755103),\n",
       " ('excellent', 0.42857142857142855))"
      ]
     },
     "execution_count": 17,
     "metadata": {},
     "output_type": "execute_result"
    }
   ],
   "source": [
    "##문제2 답안\n",
    "gini_age           = min(get_attribute_gini_index(pd_data, \"age\", \"class_buys_computer\").items())\n",
    "gini_income        = min(get_attribute_gini_index(pd_data, \"income\", \"class_buys_computer\").items())\n",
    "gini_student       = min(get_attribute_gini_index(pd_data, \"student\", \"class_buys_computer\").items())\n",
    "gini_credit_rating = min(get_attribute_gini_index(pd_data, \"credit_rating\", \"class_buys_computer\").items())\n",
    "\n",
    "gini_age, gini_income, gini_student, gini_credit_rating"
   ]
  },
  {
   "cell_type": "markdown",
   "metadata": {},
   "source": [
    "> age 변수의 gini index가 0.35714285714285715 으로 가장 작기 때문에 가장 중요한 분류 변수로 선정된다. <br/>\n",
    "따라서 최초 split 변수는 **age**이며, 그 기준은 **middle_aged**가 될 것이다."
   ]
  },
  {
   "cell_type": "markdown",
   "metadata": {},
   "source": [
    "## 문제3) 문제 2에서 제시한 feature로 DataFrame을 split한 후 나눠진 2개의 DataFrame에서 각각   다음으로 중요한 변수를 선정하고 해당 변수의 Gini index를 제시해주세요."
   ]
  },
  {
   "cell_type": "code",
   "execution_count": 18,
   "metadata": {},
   "outputs": [
    {
     "data": {
      "text/plain": [
       "(('high', 0.0), ('no', 0.0), ('excellent', 0.0))"
      ]
     },
     "execution_count": 18,
     "metadata": {},
     "output_type": "execute_result"
    }
   ],
   "source": [
    "##문제3 답안\n",
    "\n",
    "# middle_aged에 해당되는 DataFrame\n",
    "being_split_1 = pd_data.loc[pd_data.age == 'middle_aged']\n",
    "\n",
    "gini_income_1        = min(get_attribute_gini_index(being_split_1, \"income\", \"class_buys_computer\").items())\n",
    "gini_student_1       = min(get_attribute_gini_index(being_split_1, \"student\", \"class_buys_computer\").items())\n",
    "gini_credit_rating_1 = min(get_attribute_gini_index(being_split_1, \"credit_rating\", \"class_buys_computer\").items())\n",
    "\n",
    "gini_income_1, gini_student_1, gini_credit_rating_1"
   ]
  },
  {
   "cell_type": "markdown",
   "metadata": {},
   "source": [
    "> gini index가 모두 0으로 출력되었기 때문에 **최종적으로 분류된 노드**라고 판단하였다."
   ]
  },
  {
   "cell_type": "code",
   "execution_count": 19,
   "metadata": {},
   "outputs": [
    {
     "data": {
      "text/plain": [
       "(('senior', 0.48),\n",
       " ('high', 0.375),\n",
       " ('no', 0.31999999999999984),\n",
       " ('excellent', 0.4166666666666667))"
      ]
     },
     "execution_count": 19,
     "metadata": {},
     "output_type": "execute_result"
    }
   ],
   "source": [
    "# middle_aged에 해당되지 않는 DataFrame\n",
    "being_split_2 = pd_data.loc[pd_data.age != 'middle_aged']\n",
    "\n",
    "gini_age_2           = min(get_attribute_gini_index(being_split_2, \"age\", \"class_buys_computer\").items())\n",
    "gini_income_2        = min(get_attribute_gini_index(being_split_2, \"income\", \"class_buys_computer\").items())\n",
    "gini_student_2       = min(get_attribute_gini_index(being_split_2, \"student\", \"class_buys_computer\").items())\n",
    "gini_credit_rating_2 = min(get_attribute_gini_index(being_split_2, \"credit_rating\", \"class_buys_computer\").items())\n",
    "\n",
    "gini_age_2, gini_income_2, gini_student_2, gini_credit_rating_2"
   ]
  },
  {
   "cell_type": "markdown",
   "metadata": {},
   "source": [
    "> age[middle_aged]에 이어 두 번째로 중요한 변수는 0.31999999999999984의 gini index를 나타내는 student가 선정되었다. <br/>\n",
    "따라서 다음 split은 **student**의 **no**를 기준으로 실행될 것이다."
   ]
  },
  {
   "cell_type": "code",
   "execution_count": null,
   "metadata": {},
   "outputs": [],
   "source": []
  }
 ],
 "metadata": {
  "kernelspec": {
   "display_name": "Python 3",
   "language": "python",
   "name": "python3"
  },
  "language_info": {
   "codemirror_mode": {
    "name": "ipython",
    "version": 3
   },
   "file_extension": ".py",
   "mimetype": "text/x-python",
   "name": "python",
   "nbconvert_exporter": "python",
   "pygments_lexer": "ipython3",
   "version": "3.7.3"
  }
 },
 "nbformat": 4,
 "nbformat_minor": 4
}
